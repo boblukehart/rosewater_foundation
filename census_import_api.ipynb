{
 "cells": [
  {
   "cell_type": "markdown",
   "id": "a7f8621b",
   "metadata": {},
   "source": [
    "census resources:\n",
    "- example blockgroup: https://api.census.gov/data/2019/pdb/blockgroup/examples.html\n",
    "- api document: https://www.census.gov/content/dam/Census/data/developers/api-user-guide/api-guide.pdf\n",
    "- handbook: https://www.census.gov/content/dam/Census/library/publications/2020/acs/acs_api_handbook_2020_ch02.pdf\n",
    "- variables: https://api.census.gov/data/2019/acs/acs5/variables.html\n",
    "- data surveys: https://api.census.gov/data.html\n",
    "- query exmaples: https://www.census.gov/data/developers/guidance/api-user-guide/query-examples.html\n",
    "- geoindentifiers: https://www.census.gov/programs-surveys/geography/guidance/geo-identifiers.html\n",
    "- tutorial: https://github.com/datamade/census\n",
    "- api intro: https://www.census.gov/data/developers/data-sets/acs-5year.html"
   ]
  },
  {
   "cell_type": "code",
   "execution_count": 3,
   "id": "fff00d19-9110-47a3-b665-0061a2972ae9",
   "metadata": {},
   "outputs": [],
   "source": [
    "import tarfile\n",
    "import pandas as pd\n",
    "import numpy as np\n",
    "import os\n",
    "import requests\n",
    "import dotenv"
   ]
  },
  {
   "cell_type": "code",
   "execution_count": 4,
   "id": "56fc8783-ac7d-42ff-b128-461da634f068",
   "metadata": {},
   "outputs": [],
   "source": [
    "# load key for API\n",
    "dotenv.load_dotenv()\n",
    "key = os.getenv('census_key')"
   ]
  },
  {
   "cell_type": "code",
   "execution_count": 5,
   "id": "27a2ae7e-c637-4e81-ab14-6953ea36cb92",
   "metadata": {},
   "outputs": [],
   "source": [
    "# load ems data and get coordinates\n",
    "emsdata = pd.read_csv('locationData.csv')\n",
    "emsdata['Coordinates']=list(zip(emsdata['IncidentLatitude'],emsdata['IncidentLongitude']))"
   ]
  },
  {
   "cell_type": "code",
   "execution_count": 10,
   "id": "80873678-b625-4767-b5c0-6774816115fe",
   "metadata": {},
   "outputs": [],
   "source": [
    "# API for getting blocks from geocode\n",
    "# Specify call and parameters\n",
    "search_url = 'https://geo.fcc.gov/api/census/area?'\n",
    "\n",
    "# get coordinates for lookup\n",
    "coord = emsdata[~((emsdata['IncidentLatitude'].isna())|emsdata['IncidentLongitude'].isna())]['Coordinates'].drop_duplicates()\n",
    "\n",
    "# fetch data and save as json\n",
    "blockmap = [requests.get(search_url,params={'lat': la, 'lon': lo}) \\\n",
    "     .json()['results'][0]['block_fips'] \\\n",
    "     for la, lo in coord]"
   ]
  },
  {
   "cell_type": "code",
   "execution_count": 12,
   "id": "f6e1bc98-c9c8-44ed-a41b-22f1e596390b",
   "metadata": {},
   "outputs": [],
   "source": [
    "# store block level data in dataframe\n",
    "blocks = pd.DataFrame({\n",
    "    'Coordinates':coord,\n",
    "    'BlockGroup':blockmap\n",
    "})"
   ]
  },
  {
   "cell_type": "code",
   "execution_count": 14,
   "id": "361c0009-09ca-404d-a5e7-3523cb1b3dcb",
   "metadata": {},
   "outputs": [],
   "source": [
    "# merge block data to EMS\n",
    "emsdata_bg = emsdata.merge(blocks, left_on='Coordinates', right_on='Coordinates')\n",
    "emsdata_bg['BlockGroup12'] = emsdata_bg['BlockGroup'].str[:12]\n",
    "emsdata_bg.to_csv('emsmerged.csv')"
   ]
  },
  {
   "cell_type": "code",
   "execution_count": 6,
   "id": "f953c3d1",
   "metadata": {},
   "outputs": [],
   "source": [
    "# export ems data merged with block data\n",
    "emsdata_merged = pd.read_csv('emsmerged.csv')"
   ]
  },
  {
   "cell_type": "code",
   "execution_count": 15,
   "id": "50c7b324-e395-4eef-98a0-91f74ccfe1ff",
   "metadata": {},
   "outputs": [],
   "source": [
    "# get unique blocks\n",
    "emsdata_merged['BlockGroup12'] = emsdata_merged['BlockGroup'].astype(str).str[:12]\n",
    "blockUnique = emsdata_merged['BlockGroup12'].drop_duplicates()"
   ]
  },
  {
   "cell_type": "code",
   "execution_count": 26,
   "id": "992c78d3",
   "metadata": {},
   "outputs": [],
   "source": [
    "#Block info\n",
    "st = blockUnique[0][0:2]\n",
    "co = blockUnique[0][2:5]\n",
    "tr = blockUnique[0][5:11]\n",
    "bl = blockUnique[0][11:]"
   ]
  },
  {
   "cell_type": "code",
   "execution_count": 29,
   "id": "75d0d2df-0d4a-4771-a582-58a0a6151cdd",
   "metadata": {},
   "outputs": [],
   "source": [
    "# API for getting census-level data\n",
    "from census import Census\n",
    "#from us import states\n",
    "\n",
    "c = Census(key)\n",
    "\n",
    "#block group level income data\n",
    "blockIncome = [c.acs5.get(('NAME', 'B19013_001E'),\n",
    "          {'for': 'block group:{}'.format(b[11:]),\n",
    "          'in':'state:{} county:{} tract:{}'.format(b[0:2], b[2:5], b[5:11])})[0]['B19013_001E']\n",
    "for b in blockUnique]"
   ]
  },
  {
   "cell_type": "code",
   "execution_count": 30,
   "id": "e6c5af2a",
   "metadata": {},
   "outputs": [
    {
     "data": {
      "text/html": [
       "<div>\n",
       "<style scoped>\n",
       "    .dataframe tbody tr th:only-of-type {\n",
       "        vertical-align: middle;\n",
       "    }\n",
       "\n",
       "    .dataframe tbody tr th {\n",
       "        vertical-align: top;\n",
       "    }\n",
       "\n",
       "    .dataframe thead th {\n",
       "        text-align: right;\n",
       "    }\n",
       "</style>\n",
       "<table border=\"1\" class=\"dataframe\">\n",
       "  <thead>\n",
       "    <tr style=\"text-align: right;\">\n",
       "      <th></th>\n",
       "      <th>Block</th>\n",
       "      <th>Income</th>\n",
       "    </tr>\n",
       "  </thead>\n",
       "  <tbody>\n",
       "    <tr>\n",
       "      <th>0</th>\n",
       "      <td>515400005023</td>\n",
       "      <td>98967.0</td>\n",
       "    </tr>\n",
       "    <tr>\n",
       "      <th>1</th>\n",
       "      <td>515400004012</td>\n",
       "      <td>61932.0</td>\n",
       "    </tr>\n",
       "    <tr>\n",
       "      <th>2</th>\n",
       "      <td>515400002022</td>\n",
       "      <td>12000.0</td>\n",
       "    </tr>\n",
       "    <tr>\n",
       "      <th>3</th>\n",
       "      <td>515400008004</td>\n",
       "      <td>51250.0</td>\n",
       "    </tr>\n",
       "    <tr>\n",
       "      <th>4</th>\n",
       "      <td>515400004023</td>\n",
       "      <td>36670.0</td>\n",
       "    </tr>\n",
       "    <tr>\n",
       "      <th>...</th>\n",
       "      <td>...</td>\n",
       "      <td>...</td>\n",
       "    </tr>\n",
       "    <tr>\n",
       "      <th>20698</th>\n",
       "      <td>510030111003</td>\n",
       "      <td>-666666666.0</td>\n",
       "    </tr>\n",
       "    <tr>\n",
       "      <th>21353</th>\n",
       "      <td>510030102012</td>\n",
       "      <td>88672.0</td>\n",
       "    </tr>\n",
       "    <tr>\n",
       "      <th>21369</th>\n",
       "      <td>510030105001</td>\n",
       "      <td>-666666666.0</td>\n",
       "    </tr>\n",
       "    <tr>\n",
       "      <th>21868</th>\n",
       "      <td>510030111004</td>\n",
       "      <td>99333.0</td>\n",
       "    </tr>\n",
       "    <tr>\n",
       "      <th>22385</th>\n",
       "      <td>511259502004</td>\n",
       "      <td>64427.0</td>\n",
       "    </tr>\n",
       "  </tbody>\n",
       "</table>\n",
       "<p>85 rows × 2 columns</p>\n",
       "</div>"
      ],
      "text/plain": [
       "              Block       Income\n",
       "0      515400005023      98967.0\n",
       "1      515400004012      61932.0\n",
       "2      515400002022      12000.0\n",
       "3      515400008004      51250.0\n",
       "4      515400004023      36670.0\n",
       "...             ...          ...\n",
       "20698  510030111003 -666666666.0\n",
       "21353  510030102012      88672.0\n",
       "21369  510030105001 -666666666.0\n",
       "21868  510030111004      99333.0\n",
       "22385  511259502004      64427.0\n",
       "\n",
       "[85 rows x 2 columns]"
      ]
     },
     "execution_count": 30,
     "metadata": {},
     "output_type": "execute_result"
    }
   ],
   "source": [
    "censusBlock = pd.DataFrame({\n",
    "    'Block': blockUnique,\n",
    "    'Income': blockIncome\n",
    "})\n",
    "\n",
    "censusBlock"
   ]
  }
 ],
 "metadata": {
  "kernelspec": {
   "display_name": "Python 3",
   "language": "python",
   "name": "python3"
  },
  "language_info": {
   "codemirror_mode": {
    "name": "ipython",
    "version": 3
   },
   "file_extension": ".py",
   "mimetype": "text/x-python",
   "name": "python",
   "nbconvert_exporter": "python",
   "pygments_lexer": "ipython3",
   "version": "3.8.8"
  }
 },
 "nbformat": 4,
 "nbformat_minor": 5
}
